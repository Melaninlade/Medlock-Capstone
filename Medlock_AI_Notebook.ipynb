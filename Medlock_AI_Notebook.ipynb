{
 "cells": [
  {
   "cell_type": "markdown",
   "id": "cae9d61d",
   "metadata": {},
   "source": [
    "# 🩺 Medlock AI: Health Summary Notebook\n",
    "This notebook lets you:\n",
    "- Use AI to summarize patient text\n",
    "- Save and retrieve from a local SQLite database\n",
    "- Update and delete entries\n"
   ]
  },
  {
   "cell_type": "code",
   "execution_count": null,
   "id": "f26682cf",
   "metadata": {},
   "outputs": [],
   "source": [
    "!pip install transformers"
   ]
  },
  {
   "cell_type": "code",
   "execution_count": null,
   "id": "fdc99dc8",
   "metadata": {},
   "outputs": [],
   "source": [
    "\n",
    "import sqlite3\n",
    "from datetime import datetime\n",
    "from transformers import pipeline\n"
   ]
  },
  {
   "cell_type": "code",
   "execution_count": null,
   "id": "c6f2aaea",
   "metadata": {},
   "outputs": [],
   "source": [
    "\n",
    "# Connect to DB\n",
    "conn = sqlite3.connect(\"medlock_records.db\")\n",
    "cursor = conn.cursor()\n",
    "\n",
    "# Create table\n",
    "cursor.execute(\"\"\"\n",
    "    CREATE TABLE IF NOT EXISTS patient_summaries (\n",
    "        id INTEGER PRIMARY KEY AUTOINCREMENT,\n",
    "        full_input TEXT,\n",
    "        summary TEXT,\n",
    "        timestamp TEXT\n",
    "    )\n",
    "\"\"\")\n",
    "conn.commit()\n",
    "\n",
    "# Load summarizer\n",
    "summarizer = pipeline(\"summarization\", model=\"facebook/bart-large-cnn\")\n",
    "\n",
    "print(\"✅ Database and summarizer ready.\")\n"
   ]
  },
  {
   "cell_type": "code",
   "execution_count": null,
   "id": "bff4243c",
   "metadata": {},
   "outputs": [],
   "source": [
    "\n",
    "# 🔹 Summarize patient input\n",
    "patient_input = \"\"\"I've been experiencing shortness of breath, dizziness, and fatigue for 3 days.\"\"\"\n",
    "summary = summarizer(patient_input, max_length=60, min_length=25, do_sample=False)[0]['summary_text']\n",
    "\n",
    "print(\"---- Summary ----\")\n",
    "print(summary)\n"
   ]
  },
  {
   "cell_type": "code",
   "execution_count": null,
   "id": "08bfb4a5",
   "metadata": {},
   "outputs": [],
   "source": [
    "\n",
    "# 🔹 Save to DB\n",
    "timestamp = datetime.now().isoformat()\n",
    "\n",
    "cursor.execute(\"\"\"\n",
    "    INSERT INTO patient_summaries (full_input, summary, timestamp)\n",
    "    VALUES (?, ?, ?)\n",
    "\"\"\", (patient_input, summary, timestamp))\n",
    "conn.commit()\n",
    "\n",
    "print(\"✅ Summary saved to database.\")\n"
   ]
  },
  {
   "cell_type": "code",
   "execution_count": null,
   "id": "9fc94a95",
   "metadata": {},
   "outputs": [],
   "source": [
    "\n",
    "# 🔹 Search DB\n",
    "search_term = \"fatigue\"  # Change as needed\n",
    "\n",
    "cursor.execute(\"\"\"\n",
    "    SELECT * FROM patient_summaries\n",
    "    WHERE lower(full_input) LIKE ? OR lower(summary) LIKE ?\n",
    "\"\"\", (f\"%{search_term.lower()}%\", f\"%{search_term.lower()}%\"))\n",
    "\n",
    "results = cursor.fetchall()\n",
    "\n",
    "for row in results:\n",
    "    print(f\"ID: {row[0]}\\nSummary: {row[2]}\\nTime: {row[3]}\\n\")\n"
   ]
  },
  {
   "cell_type": "code",
   "execution_count": null,
   "id": "e8f6ca32",
   "metadata": {},
   "outputs": [],
   "source": [
    "\n",
    "# 🔹 Update or Delete\n",
    "record_id = 1  # Replace with the actual ID\n",
    "\n",
    "# Example: Update\n",
    "new_summary = \"Updated summary: Patient has dizziness, breathlessness, and fatigue.\"\n",
    "cursor.execute(\"UPDATE patient_summaries SET summary = ? WHERE id = ?\", (new_summary, record_id))\n",
    "conn.commit()\n",
    "print(\"✅ Updated.\")\n",
    "\n",
    "# Example: Delete\n",
    "# cursor.execute(\"DELETE FROM patient_summaries WHERE id = ?\", (record_id,))\n",
    "# conn.commit()\n",
    "# print(\"❌ Deleted.\")\n"
   ]
  }
 ],
 "metadata": {},
 "nbformat": 4,
 "nbformat_minor": 5
}