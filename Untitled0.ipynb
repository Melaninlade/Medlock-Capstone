{
  "nbformat": 4,
  "nbformat_minor": 0,
  "metadata": {
    "colab": {
      "provenance": [],
      "toc_visible": true,
      "authorship_tag": "ABX9TyMB8eb4Z2ajLb9JQCbg/yXa",
      "include_colab_link": true
    },
    "kernelspec": {
      "name": "python3",
      "display_name": "Python 3"
    },
    "language_info": {
      "name": "python"
    }
  },
  "cells": [
    {
      "cell_type": "markdown",
      "metadata": {
        "id": "view-in-github",
        "colab_type": "text"
      },
      "source": [
        "<a href=\"https://colab.research.google.com/github/Melaninlade/Medlock-Capstone/blob/main/Untitled0.ipynb\" target=\"_parent\"><img src=\"https://colab.research.google.com/assets/colab-badge.svg\" alt=\"Open In Colab\"/></a>"
      ]
    },
    {
      "cell_type": "code",
      "execution_count": null,
      "metadata": {
        "colab": {
          "base_uri": "https://localhost:8080/",
          "height": 1000
        },
        "id": "XUwPuW8Dmkk4",
        "outputId": "092d7ac9-386b-44b3-f9bd-8452ab17a8a4"
      },
      "outputs": [
        {
          "output_type": "stream",
          "name": "stdout",
          "text": [
            "Requirement already satisfied: transformers in /usr/local/lib/python3.11/dist-packages (4.51.3)\n",
            "Requirement already satisfied: filelock in /usr/local/lib/python3.11/dist-packages (from transformers) (3.18.0)\n",
            "Requirement already satisfied: huggingface-hub<1.0,>=0.30.0 in /usr/local/lib/python3.11/dist-packages (from transformers) (0.30.2)\n",
            "Requirement already satisfied: numpy>=1.17 in /usr/local/lib/python3.11/dist-packages (from transformers) (2.0.2)\n",
            "Requirement already satisfied: packaging>=20.0 in /usr/local/lib/python3.11/dist-packages (from transformers) (24.2)\n",
            "Requirement already satisfied: pyyaml>=5.1 in /usr/local/lib/python3.11/dist-packages (from transformers) (6.0.2)\n",
            "Requirement already satisfied: regex!=2019.12.17 in /usr/local/lib/python3.11/dist-packages (from transformers) (2024.11.6)\n",
            "Requirement already satisfied: requests in /usr/local/lib/python3.11/dist-packages (from transformers) (2.32.3)\n",
            "Requirement already satisfied: tokenizers<0.22,>=0.21 in /usr/local/lib/python3.11/dist-packages (from transformers) (0.21.1)\n",
            "Requirement already satisfied: safetensors>=0.4.3 in /usr/local/lib/python3.11/dist-packages (from transformers) (0.5.3)\n",
            "Requirement already satisfied: tqdm>=4.27 in /usr/local/lib/python3.11/dist-packages (from transformers) (4.67.1)\n",
            "Requirement already satisfied: fsspec>=2023.5.0 in /usr/local/lib/python3.11/dist-packages (from huggingface-hub<1.0,>=0.30.0->transformers) (2025.3.2)\n",
            "Requirement already satisfied: typing-extensions>=3.7.4.3 in /usr/local/lib/python3.11/dist-packages (from huggingface-hub<1.0,>=0.30.0->transformers) (4.13.2)\n",
            "Requirement already satisfied: charset-normalizer<4,>=2 in /usr/local/lib/python3.11/dist-packages (from requests->transformers) (3.4.1)\n",
            "Requirement already satisfied: idna<4,>=2.5 in /usr/local/lib/python3.11/dist-packages (from requests->transformers) (3.10)\n",
            "Requirement already satisfied: urllib3<3,>=1.21.1 in /usr/local/lib/python3.11/dist-packages (from requests->transformers) (2.3.0)\n",
            "Requirement already satisfied: certifi>=2017.4.17 in /usr/local/lib/python3.11/dist-packages (from requests->transformers) (2025.1.31)\n"
          ]
        },
        {
          "output_type": "stream",
          "name": "stderr",
          "text": [
            "Device set to use cpu\n",
            "Your max_length is set to 60, but your input_length is only 20. Since this is a summarization task, where outputs shorter than the input are typically wanted, you might consider decreasing max_length manually, e.g. summarizer('...', max_length=10)\n"
          ]
        },
        {
          "output_type": "stream",
          "name": "stdout",
          "text": [
            "✅ Database and summarizer ready.\n",
            "Requirement already satisfied: transformers in /usr/local/lib/python3.11/dist-packages (4.51.3)\n",
            "Requirement already satisfied: filelock in /usr/local/lib/python3.11/dist-packages (from transformers) (3.18.0)\n",
            "Requirement already satisfied: huggingface-hub<1.0,>=0.30.0 in /usr/local/lib/python3.11/dist-packages (from transformers) (0.30.2)\n",
            "Requirement already satisfied: numpy>=1.17 in /usr/local/lib/python3.11/dist-packages (from transformers) (2.0.2)\n",
            "Requirement already satisfied: packaging>=20.0 in /usr/local/lib/python3.11/dist-packages (from transformers) (24.2)\n",
            "Requirement already satisfied: pyyaml>=5.1 in /usr/local/lib/python3.11/dist-packages (from transformers) (6.0.2)\n",
            "Requirement already satisfied: regex!=2019.12.17 in /usr/local/lib/python3.11/dist-packages (from transformers) (2024.11.6)\n",
            "Requirement already satisfied: requests in /usr/local/lib/python3.11/dist-packages (from transformers) (2.32.3)\n",
            "Requirement already satisfied: tokenizers<0.22,>=0.21 in /usr/local/lib/python3.11/dist-packages (from transformers) (0.21.1)\n",
            "Requirement already satisfied: safetensors>=0.4.3 in /usr/local/lib/python3.11/dist-packages (from transformers) (0.5.3)\n",
            "Requirement already satisfied: tqdm>=4.27 in /usr/local/lib/python3.11/dist-packages (from transformers) (4.67.1)\n",
            "Requirement already satisfied: fsspec>=2023.5.0 in /usr/local/lib/python3.11/dist-packages (from huggingface-hub<1.0,>=0.30.0->transformers) (2025.3.2)\n",
            "Requirement already satisfied: typing-extensions>=3.7.4.3 in /usr/local/lib/python3.11/dist-packages (from huggingface-hub<1.0,>=0.30.0->transformers) (4.13.2)\n",
            "Requirement already satisfied: charset-normalizer<4,>=2 in /usr/local/lib/python3.11/dist-packages (from requests->transformers) (3.4.1)\n",
            "Requirement already satisfied: idna<4,>=2.5 in /usr/local/lib/python3.11/dist-packages (from requests->transformers) (3.10)\n",
            "Requirement already satisfied: urllib3<3,>=1.21.1 in /usr/local/lib/python3.11/dist-packages (from requests->transformers) (2.3.0)\n",
            "Requirement already satisfied: certifi>=2017.4.17 in /usr/local/lib/python3.11/dist-packages (from requests->transformers) (2025.1.31)\n"
          ]
        },
        {
          "output_type": "stream",
          "name": "stderr",
          "text": [
            "Device set to use cpu\n",
            "Your max_length is set to 60, but your input_length is only 20. Since this is a summarization task, where outputs shorter than the input are typically wanted, you might consider decreasing max_length manually, e.g. summarizer('...', max_length=10)\n"
          ]
        },
        {
          "output_type": "stream",
          "name": "stdout",
          "text": [
            "✅ Database and summarizer ready.\n"
          ]
        },
        {
          "output_type": "stream",
          "name": "stderr",
          "text": [
            "Your max_length is set to 60, but your input_length is only 20. Since this is a summarization task, where outputs shorter than the input are typically wanted, you might consider decreasing max_length manually, e.g. summarizer('...', max_length=10)\n"
          ]
        },
        {
          "output_type": "stream",
          "name": "stdout",
          "text": [
            "---- Summary ----\n",
            "\"I've been experiencing shortness of breath, dizziness, and fatigue for 3 days,\" she said. \"I don't know what's wrong with me,\" she added.\n"
          ]
        },
        {
          "output_type": "stream",
          "name": "stderr",
          "text": [
            "Your max_length is set to 60, but your input_length is only 17. Since this is a summarization task, where outputs shorter than the input are typically wanted, you might consider decreasing max_length manually, e.g. summarizer('...', max_length=8)\n"
          ]
        },
        {
          "output_type": "stream",
          "name": "stdout",
          "text": [
            "---- Summary ----\n",
            "\"I've been experiencing shortness of breath, dizziness, and fatigue for 3 days,\" she said. \"I don't know what's wrong with me,\" she added.\n"
          ]
        },
        {
          "output_type": "stream",
          "name": "stderr",
          "text": [
            "Your max_length is set to 60, but your input_length is only 20. Since this is a summarization task, where outputs shorter than the input are typically wanted, you might consider decreasing max_length manually, e.g. summarizer('...', max_length=10)\n"
          ]
        },
        {
          "output_type": "stream",
          "name": "stdout",
          "text": [
            "---- Summary ----\n",
            "\"I've been experiencing chest pain, heart palpitations and reflux,\" she said. \"It's been very difficult to deal with\"\n"
          ]
        },
        {
          "output_type": "stream",
          "name": "stderr",
          "text": [
            "Your max_length is set to 60, but your input_length is only 17. Since this is a summarization task, where outputs shorter than the input are typically wanted, you might consider decreasing max_length manually, e.g. summarizer('...', max_length=8)\n"
          ]
        },
        {
          "output_type": "stream",
          "name": "stdout",
          "text": [
            "---- Summary ----\n",
            "\"I've been experiencing shortness of breath, dizziness, and fatigue for 3 days,\" she said. \"I don't know what's wrong with me,\" she added.\n"
          ]
        },
        {
          "output_type": "stream",
          "name": "stderr",
          "text": [
            "Your max_length is set to 60, but your input_length is only 19. Since this is a summarization task, where outputs shorter than the input are typically wanted, you might consider decreasing max_length manually, e.g. summarizer('...', max_length=9)\n"
          ]
        },
        {
          "output_type": "stream",
          "name": "stdout",
          "text": [
            "---- Summary ----\n",
            "Requirement already satisfied: transformers in /usr/local/lib/python3.11/dist-packages (4.51.3)\n",
            "Requirement already satisfied: filelock in /usr/local/lib/python3.11/dist-packages (from transformers) (3.18.0)\n",
            "Requirement already satisfied: huggingface-hub<1.0,>=0.30.0 in /usr/local/lib/python3.11/dist-packages (from transformers) (0.30.2)\n",
            "Requirement already satisfied: numpy>=1.17 in /usr/local/lib/python3.11/dist-packages (from transformers) (2.0.2)\n",
            "Requirement already satisfied: packaging>=20.0 in /usr/local/lib/python3.11/dist-packages (from transformers) (24.2)\n",
            "Requirement already satisfied: pyyaml>=5.1 in /usr/local/lib/python3.11/dist-packages (from transformers) (6.0.2)\n",
            "Requirement already satisfied: regex!=2019.12.17 in /usr/local/lib/python3.11/dist-packages (from transformers) (2024.11.6)\n",
            "Requirement already satisfied: requests in /usr/local/lib/python3.11/dist-packages (from transformers) (2.32.3)\n",
            "Requirement already satisfied: tokenizers<0.22,>=0.21 in /usr/local/lib/python3.11/dist-packages (from transformers) (0.21.1)\n",
            "Requirement already satisfied: safetensors>=0.4.3 in /usr/local/lib/python3.11/dist-packages (from transformers) (0.5.3)\n",
            "Requirement already satisfied: tqdm>=4.27 in /usr/local/lib/python3.11/dist-packages (from transformers) (4.67.1)\n",
            "Requirement already satisfied: fsspec>=2023.5.0 in /usr/local/lib/python3.11/dist-packages (from huggingface-hub<1.0,>=0.30.0->transformers) (2025.3.2)\n",
            "Requirement already satisfied: typing-extensions>=3.7.4.3 in /usr/local/lib/python3.11/dist-packages (from huggingface-hub<1.0,>=0.30.0->transformers) (4.13.2)\n",
            "Requirement already satisfied: charset-normalizer<4,>=2 in /usr/local/lib/python3.11/dist-packages (from requests->transformers) (3.4.1)\n",
            "Requirement already satisfied: idna<4,>=2.5 in /usr/local/lib/python3.11/dist-packages (from requests->transformers) (3.10)\n",
            "Requirement already satisfied: urllib3<3,>=1.21.1 in /usr/local/lib/python3.11/dist-packages (from requests->transformers) (2.3.0)\n",
            "Requirement already satisfied: certifi>=2017.4.17 in /usr/local/lib/python3.11/dist-packages (from requests->transformers) (2025.1.31)\n"
          ]
        },
        {
          "output_type": "stream",
          "name": "stderr",
          "text": [
            "Device set to use cpu\n",
            "Your max_length is set to 60, but your input_length is only 20. Since this is a summarization task, where outputs shorter than the input are typically wanted, you might consider decreasing max_length manually, e.g. summarizer('...', max_length=10)\n"
          ]
        },
        {
          "output_type": "stream",
          "name": "stdout",
          "text": [
            "✅ Database and summarizer ready.\n"
          ]
        },
        {
          "output_type": "stream",
          "name": "stderr",
          "text": [
            "Your max_length is set to 60, but your input_length is only 20. Since this is a summarization task, where outputs shorter than the input are typically wanted, you might consider decreasing max_length manually, e.g. summarizer('...', max_length=10)\n"
          ]
        },
        {
          "output_type": "stream",
          "name": "stdout",
          "text": [
            "---- Summary ----\n",
            "\"I've been experiencing shortness of breath, dizziness, and fatigue for 3 days,\" she said. \"I don't know what's wrong with me,\" she added.\n"
          ]
        },
        {
          "output_type": "stream",
          "name": "stderr",
          "text": [
            "Your max_length is set to 60, but your input_length is only 17. Since this is a summarization task, where outputs shorter than the input are typically wanted, you might consider decreasing max_length manually, e.g. summarizer('...', max_length=8)\n"
          ]
        },
        {
          "output_type": "stream",
          "name": "stdout",
          "text": [
            "---- Summary ----\n",
            "\"I've been experiencing shortness of breath, dizziness, and fatigue for 3 days,\" she said. \"I don't know what's wrong with me,\" she added.\n"
          ]
        },
        {
          "output_type": "stream",
          "name": "stderr",
          "text": [
            "Your max_length is set to 60, but your input_length is only 20. Since this is a summarization task, where outputs shorter than the input are typically wanted, you might consider decreasing max_length manually, e.g. summarizer('...', max_length=10)\n"
          ]
        },
        {
          "output_type": "stream",
          "name": "stdout",
          "text": [
            "---- Summary ----\n",
            "\"I've been experiencing chest pain, heart palpitations and reflux,\" she said. \"It's been very difficult to deal with\"\n"
          ]
        },
        {
          "output_type": "stream",
          "name": "stderr",
          "text": [
            "Your max_length is set to 60, but your input_length is only 17. Since this is a summarization task, where outputs shorter than the input are typically wanted, you might consider decreasing max_length manually, e.g. summarizer('...', max_length=8)\n"
          ]
        },
        {
          "output_type": "stream",
          "name": "stdout",
          "text": [
            "---- Summary ----\n",
            "\"I've been experiencing shortness of breath, dizziness, and fatigue for 3 days,\" she said. \"I don't know what's wrong with me,\" she added.\n"
          ]
        },
        {
          "output_type": "stream",
          "name": "stderr",
          "text": [
            "Your max_length is set to 60, but your input_length is only 19. Since this is a summarization task, where outputs shorter than the input are typically wanted, you might consider decreasing max_length manually, e.g. summarizer('...', max_length=9)\n",
            "Your max_length is set to 30, but your input_length is only 19. Since this is a summarization task, where outputs shorter than the input are typically wanted, you might consider decreasing max_length manually, e.g. summarizer('...', max_length=9)\n"
          ]
        },
        {
          "output_type": "stream",
          "name": "stdout",
          "text": [
            "---- Summary ----\n",
            "\"I've been experiencing chest pain, heart palpitations, and acid reflux,\" she said. \"It's been very difficult for me to deal with\"\n",
            "✅ Summary saved to database.\n",
            "📋 All Saved Patient Summaries:\n",
            "\n",
            "ID: 1\n",
            "Input: I've been experiencing chest pain, heart palpitations, and acid reflux.\n",
            "Summary: I've been experiencing chest pain, heart palpitations, and acid reflux.\n",
            "Time: 2025-04-24T20:58:11.692341\n",
            "----------------------------------------\n",
            "ID: 2\n",
            "Input: I've been experiencing chest pain, heart palpitations, and acid reflux.\n",
            "Summary: I've been experiencing chest pain, heart palpitations, and acid reflux.\n",
            "Time: 2025-04-24T21:09:17.418100\n",
            "----------------------------------------\n",
            "ID: 3\n",
            "Input: I've been experiencing chest pain, heart palpitations, and acid reflux.\n",
            "Summary: I've been experiencing chest pain, heart palpitations, and acid reflux.\n",
            "Time: 2025-04-24T21:15:32.274038\n",
            "----------------------------------------\n",
            "ID: 4\n",
            "Input: I've been experiencing chest pain, heart palpitations, and acid reflux.\n",
            "Summary: I've been experiencing chest pain, heart palpitations, and acid reflux.\n",
            "Time: 2025-04-24T21:19:13.547586\n",
            "----------------------------------------\n",
            "ID: 5\n",
            "Input: I've been experiencing chest pain, heart palpitations, and acid reflux.\n",
            "Summary: I've been experiencing chest pain, heart palpitations, and acid reflux.\n",
            "Time: 2025-04-24T21:32:23.676266\n",
            "----------------------------------------\n",
            "ID: 6\n",
            "Input: I've been experiencing chest pain, heart palpitations, and acid reflux.\n",
            "Summary: I've been experiencing chest pain, heart palpitations, and acid reflux.\n",
            "Time: 2025-04-24T21:39:55.744119\n",
            "----------------------------------------\n",
            "ID: 7\n",
            "Input: I've been experiencing chest pain, heart palpitations, and acid reflux.\n",
            "Summary: I've been experiencing chest pain, heart palpitations, and acid reflux.\n",
            "Time: 2025-04-24T21:43:22.813085\n",
            "----------------------------------------\n",
            "ID: 8\n",
            "Input: I've been experiencing chest pain, heart palpitations, and acid reflux.\n",
            "Summary: I've been experiencing chest pain, heart palpitations, and acid reflux.\n",
            "Time: 2025-04-24T21:47:35.051018\n",
            "----------------------------------------\n",
            "ID: 9\n",
            "Input: I've been experiencing chest pain, heart palpitations, and acid reflux.\n",
            "Summary: I've been experiencing chest pain, heart palpitations, and acid reflux.\n",
            "Time: 2025-04-24T21:56:31.834465\n",
            "----------------------------------------\n",
            "ID: 10\n",
            "Input: I've been experiencing chest pain, heart palpitations, and acid reflux.\n",
            "Summary: I've been experiencing chest pain, heart palpitations, and acid reflux.\n",
            "Time: 2025-04-24T21:59:36.197410\n",
            "----------------------------------------\n",
            "ID: 11\n",
            "Input: I've been experiencing chest pain, heart palpitations, and acid reflux.\n",
            "Summary: I've been experiencing chest pain, heart palpitations, and acid reflux.\n",
            "Time: 2025-04-24T22:05:45.864534\n",
            "----------------------------------------\n",
            "Results for: pain\n",
            "\n",
            "ID: 1\n",
            "Input: I've been experiencing chest pain, heart palpitations, and acid reflux.\n",
            "Summary: I've been experiencing chest pain, heart palpitations, and acid reflux.\n",
            "Time: 2025-04-24T20:58:11.692341\n",
            "----------------------------------------\n",
            "ID: 2\n",
            "Input: I've been experiencing chest pain, heart palpitations, and acid reflux.\n",
            "Summary: I've been experiencing chest pain, heart palpitations, and acid reflux.\n",
            "Time: 2025-04-24T21:09:17.418100\n",
            "----------------------------------------\n",
            "ID: 3\n",
            "Input: I've been experiencing chest pain, heart palpitations, and acid reflux.\n",
            "Summary: I've been experiencing chest pain, heart palpitations, and acid reflux.\n",
            "Time: 2025-04-24T21:15:32.274038\n",
            "----------------------------------------\n",
            "ID: 4\n",
            "Input: I've been experiencing chest pain, heart palpitations, and acid reflux.\n",
            "Summary: I've been experiencing chest pain, heart palpitations, and acid reflux.\n",
            "Time: 2025-04-24T21:19:13.547586\n",
            "----------------------------------------\n",
            "ID: 5\n",
            "Input: I've been experiencing chest pain, heart palpitations, and acid reflux.\n",
            "Summary: I've been experiencing chest pain, heart palpitations, and acid reflux.\n",
            "Time: 2025-04-24T21:32:23.676266\n",
            "----------------------------------------\n",
            "ID: 6\n",
            "Input: I've been experiencing chest pain, heart palpitations, and acid reflux.\n",
            "Summary: I've been experiencing chest pain, heart palpitations, and acid reflux.\n",
            "Time: 2025-04-24T21:39:55.744119\n",
            "----------------------------------------\n",
            "ID: 7\n",
            "Input: I've been experiencing chest pain, heart palpitations, and acid reflux.\n",
            "Summary: I've been experiencing chest pain, heart palpitations, and acid reflux.\n",
            "Time: 2025-04-24T21:43:22.813085\n",
            "----------------------------------------\n",
            "ID: 8\n",
            "Input: I've been experiencing chest pain, heart palpitations, and acid reflux.\n",
            "Summary: I've been experiencing chest pain, heart palpitations, and acid reflux.\n",
            "Time: 2025-04-24T21:47:35.051018\n",
            "----------------------------------------\n",
            "ID: 9\n",
            "Input: I've been experiencing chest pain, heart palpitations, and acid reflux.\n",
            "Summary: I've been experiencing chest pain, heart palpitations, and acid reflux.\n",
            "Time: 2025-04-24T21:56:31.834465\n",
            "----------------------------------------\n",
            "ID: 10\n",
            "Input: I've been experiencing chest pain, heart palpitations, and acid reflux.\n",
            "Summary: I've been experiencing chest pain, heart palpitations, and acid reflux.\n",
            "Time: 2025-04-24T21:59:36.197410\n",
            "----------------------------------------\n",
            "ID: 11\n",
            "Input: I've been experiencing chest pain, heart palpitations, and acid reflux.\n",
            "Summary: I've been experiencing chest pain, heart palpitations, and acid reflux.\n",
            "Time: 2025-04-24T22:05:45.864534\n",
            "----------------------------------------\n"
          ]
        },
        {
          "output_type": "error",
          "ename": "ProgrammingError",
          "evalue": "Incorrect number of bindings supplied. The current statement uses 2, and there are 3 supplied.",
          "traceback": [
            "\u001b[0;31m---------------------------------------------------------------------------\u001b[0m",
            "\u001b[0;31mProgrammingError\u001b[0m                          Traceback (most recent call last)",
            "\u001b[0;32m<ipython-input-13-7b79b025f806>\u001b[0m in \u001b[0;36m<cell line: 0>\u001b[0;34m()\u001b[0m\n\u001b[1;32m    201\u001b[0m \u001b[0;34m\u001b[0m\u001b[0m\n\u001b[1;32m    202\u001b[0m \u001b[0;31m# Perform the update\u001b[0m\u001b[0;34m\u001b[0m\u001b[0;34m\u001b[0m\u001b[0m\n\u001b[0;32m--> 203\u001b[0;31m cursor.execute(\"\"\"\n\u001b[0m\u001b[1;32m    204\u001b[0m     \u001b[0mUPDATE\u001b[0m \u001b[0mpatient_summaries\u001b[0m\u001b[0;34m\u001b[0m\u001b[0;34m\u001b[0m\u001b[0m\n\u001b[1;32m    205\u001b[0m     \u001b[0mSET\u001b[0m \u001b[0mfull_input\u001b[0m \u001b[0;34m=\u001b[0m\u001b[0;31m \u001b[0m\u001b[0;31m?\u001b[0m\u001b[0;34m,\u001b[0m \u001b[0msummary\u001b[0m \u001b[0;34m=\u001b[0m\u001b[0;31m?\u001b[0m\u001b[0;34m\u001b[0m\u001b[0;34m\u001b[0m\u001b[0m\n",
            "\u001b[0;31mProgrammingError\u001b[0m: Incorrect number of bindings supplied. The current statement uses 2, and there are 3 supplied."
          ]
        }
      ],
      "source": [
        "!pip install transformers\n",
        "import sqlite3\n",
        "from datetime import datetime\n",
        "from transformers import pipeline\n",
        "\n",
        "# Connect to DB\n",
        "conn = sqlite3.connect(\"medlock_records.db\")\n",
        "cursor = conn.cursor()\n",
        "\n",
        "# Create table\n",
        "cursor.execute(\"\"\"\n",
        "    CREATE TABLE IF NOT EXISTS patient_summaries (\n",
        "        id INTEGER PRIMARY KEY AUTOINCREMENT,\n",
        "        full_input TEXT,\n",
        "        summary TEXT,\n",
        "        timestamp TEXT\n",
        "    )\n",
        "\"\"\")\n",
        "conn.commit()\n",
        "\n",
        "# Load summarizer\n",
        "summarizer = pipeline(\"summarization\", model=\"facebook/bart-large-cnn\")\n",
        "\n",
        "print(\"✅ Database and summarizer ready.\")\n",
        "# 🔹 Summarize patient input\n",
        "patient_input = \"\"\"I've been experiencing shortness of breath, dizziness, and fatigue for 3 days.\"\"\"\n",
        "summary = summarizer(patient_input, max_length=60, min_length=25, do_sample=False)[0]['summary_text']\n",
        "\n",
        "!pip install transformers\n",
        "import sqlite3\n",
        "from datetime import datetime\n",
        "from transformers import pipeline\n",
        "\n",
        "# Connect to DB\n",
        "conn = sqlite3.connect(\"medlock_records.db\")\n",
        "cursor = conn.cursor()\n",
        "\n",
        "# Create table\n",
        "cursor.execute(\"\"\"\n",
        "    CREATE TABLE IF NOT EXISTS patient_summaries (\n",
        "        id INTEGER PRIMARY KEY AUTOINCREMENT,\n",
        "        full_input TEXT,\n",
        "        summary TEXT,\n",
        "        timestamp TEXT\n",
        "    )\n",
        "\"\"\")\n",
        "conn.commit()\n",
        "\n",
        "# Load summarizer\n",
        "summarizer = pipeline(\"summarization\", model=\"facebook/bart-large-cnn\")\n",
        "\n",
        "print(\"✅ Database and summarizer ready.\")\n",
        "# 🔹 Summarize patient input\n",
        "patient_input = \"\"\"I've been experiencing shortness of breath, dizziness, and fatigue for 3 days.\"\"\"\n",
        "summary = summarizer(patient_input, max_length=60, min_length=25, do_sample=False)[0]['summary_text']\n",
        "\n",
        "print(\"---- Summary ----\")\n",
        "print(summary)\n",
        "# 🔹 Summarize patient input\n",
        "patient_input = \"\"\"I've been experiencing shortness of breath, dizziness, and fatigue for 3 days.\"\"\"\n",
        "summary = summarizer(patient_input, max_length=60, min_length=25, do_sample=False)[0]['summary_text']\n",
        "\n",
        "print(\"---- Summary ----\")\n",
        "print(summary)\n",
        "\n",
        "# 🔹 Summarize patient input\n",
        "patient_input = \"\"\"I've been experiencing chest pain, heart palpitations and reflux.\"\"\"\n",
        "summary = summarizer(patient_input, max_length=60, min_length=25, do_sample=False)[0]['summary_text']\n",
        "\n",
        "print(\"---- Summary ----\")\n",
        "print(summary)\n",
        "patient_input = \"\"\"I've been experiencing shortness of breath, dizziness, and fatigue for 3 days.\"\"\"\n",
        "summary = summarizer(patient_input, max_length=60, min_length=25, do_sample=False)[0]['summary_text']\n",
        "\n",
        "print(\"---- Summary ----\")\n",
        "print(summary)\n",
        "\n",
        "# 🔹 Summarize patient input\n",
        "patient_input = \"\"\"I've been experiencing chest pain, heart palpitations and reflux.\"\"\"\n",
        "summary = summarizer(patient_input, max_length=60, min_length=25, do_sample=False)[0]['summary_text']\n",
        "\n",
        "\n",
        "# 🔹 Summarize patient input\n",
        "patient_input = \"\"\"I've been experiencing chest pain, heart palpitations, and acid reflux.\"\"\"\n",
        "summary = summarizer(patient_input, max_length=60, min_length=25, do_sample=False)[0]['summary_text']\n",
        "\n",
        "print(\"---- Summary ----\")\n",
        "!pip install transformers\n",
        "import sqlite3\n",
        "from datetime import datetime\n",
        "from transformers import pipeline\n",
        "\n",
        "# Connect to DB\n",
        "conn = sqlite3.connect(\"medlock_records.db\")\n",
        "cursor = conn.cursor()\n",
        "\n",
        "# Create table\n",
        "cursor.execute(\"\"\"\n",
        "    CREATE TABLE IF NOT EXISTS patient_summaries (\n",
        "        id INTEGER PRIMARY KEY AUTOINCREMENT,\n",
        "        full_input TEXT,\n",
        "        summary TEXT,\n",
        "        timestamp TEXT\n",
        "    )\n",
        "\"\"\")\n",
        "conn.commit()\n",
        "\n",
        "# Load summarizer\n",
        "summarizer = pipeline(\"summarization\", model=\"facebook/bart-large-cnn\")\n",
        "\n",
        "print(\"✅ Database and summarizer ready.\")\n",
        "# 🔹 Summarize patient input\n",
        "patient_input = \"\"\"I've been experiencing shortness of breath, dizziness, and fatigue for 3 days.\"\"\"\n",
        "summary = summarizer(patient_input, max_length=60, min_length=25, do_sample=False)[0]['summary_text']\n",
        "\n",
        "print(\"---- Summary ----\")\n",
        "print(summary)\n",
        "# 🔹 Summarize patient input\n",
        "patient_input = \"\"\"I've been experiencing shortness of breath, dizziness, and fatigue for 3 days.\"\"\"\n",
        "summary = summarizer(patient_input, max_length=60, min_length=25, do_sample=False)[0]['summary_text']\n",
        "\n",
        "print(\"---- Summary ----\")\n",
        "print(summary)\n",
        "\n",
        "# 🔹 Summarize patient input\n",
        "patient_input = \"\"\"I've been experiencing chest pain, heart palpitations and reflux.\"\"\"\n",
        "summary = summarizer(patient_input, max_length=60, min_length=25, do_sample=False)[0]['summary_text']\n",
        "\n",
        "print(\"---- Summary ----\")\n",
        "print(summary)\n",
        "patient_input = \"\"\"I've been experiencing shortness of breath, dizziness, and fatigue for 3 days.\"\"\"\n",
        "summary = summarizer(patient_input, max_length=60, min_length=25, do_sample=False)[0]['summary_text']\n",
        "\n",
        "print(\"---- Summary ----\")\n",
        "print(summary)\n",
        "\n",
        "# 🔹 Summarize patient input\n",
        "patient_input = \"\"\"I've been experiencing chest pain, heart palpitations and reflux.\"\"\"\n",
        "summary = summarizer(patient_input, max_length=60, min_length=25, do_sample=False)[0]['summary_text']\n",
        "\n",
        "\n",
        "# 🔹 Summarize patient input\n",
        "patient_input = \"\"\"I've been experiencing chest pain, heart palpitations, and acid reflux.\"\"\"\n",
        "summary = summarizer(patient_input, max_length=60, min_length=25, do_sample=False)[0]['summary_text']\n",
        "\n",
        "print(\"---- Summary ----\")\n",
        "print(summary)\n",
        "summary = summarizer(patient_input, max_length=30, min_length=15, do_sample=False)[0]['summary_text']\n",
        "from datetime import datetime\n",
        "\n",
        "# Get the current time\n",
        "timestamp = datetime.now().isoformat()\n",
        "\n",
        "# Save to SQLite database\n",
        "cursor.execute(\"\"\"\n",
        "    INSERT INTO patient_summaries (full_input, summary, timestamp)\n",
        "    VALUES (?, ?, ?)\n",
        "\"\"\", (patient_input, summary, timestamp))\n",
        "conn.commit()\n",
        "\n",
        "print(\"✅ Summary saved to database.\")\n",
        "# Fetch all saved summaries\n",
        "cursor.execute(\"SELECT id, full_input, summary, timestamp FROM patient_summaries\")\n",
        "records = cursor.fetchall()\n",
        "\n",
        "# Display them\n",
        "print(\"📋 All Saved Patient Summaries:\\n\")\n",
        "for record in records:\n",
        "    print(f\"ID: {record[0]}\")\n",
        "    print(f\"Input: {record[1]}\")\n",
        "    print(f\"Summary: {record[2]}\")\n",
        "    print(f\"Time: {record[3]}\")\n",
        "    print(\"-\" * 40)\n",
        "\n",
        "# 🔍 Search the database for a keyword\n",
        "search_term = \"pain\"  # ⬅️ You can change this word!\n",
        "\n",
        "query = \"\"\"\n",
        "SELECT id, full_input, summary, timestamp\n",
        "FROM patient_summaries\n",
        "WHERE full_input LIKE ? OR summary LIKE ?\n",
        "\"\"\"\n",
        "\n",
        "# Perform the search\n",
        "cursor.execute(query, (f\"%{search_term}%\", f\"%{search_term}%\"))\n",
        "results = cursor.fetchall()\n",
        "\n",
        "# Show results\n",
        "print(f\"Results for: {search_term}\\n\")\n",
        "for record in results:\n",
        "    print(f\"ID: {record[0]}\")\n",
        "    print(f\"Input: {record[1]}\")\n",
        "    print(f\"Summary: {record[2]}\")\n",
        "    print(f\"Time: {record[3]}\")\n",
        "    print(\"-\" * 40)\n",
        "  # Update a saved record using its ID\n",
        "\n",
        "record_id = 1  # 🔁\n",
        "new_input = \"\"\"The patient has been dizzy and feeling nauseous.\"\"\"\n",
        "new_summary = \"\"\"patient was dizzy and feeling nauseous.\"\"\"\n",
        "\n",
        "# Perform the update\n",
        "cursor.execute(\"\"\"\n",
        "    UPDATE patient_summaries\n",
        "    SET full_input = ?, summary =?\n",
        "    WHERE id = 1\n",
        "\"\"\", (new_input, new_summary, record_id))\n",
        "conn.commit()\n",
        "\n",
        "print(f\"✅ Record {record_id} updated successfully.\")\n",
        "record_id = 2\n",
        "\n",
        "new_input = \"\"\"Patient says symptoms have improved with rest.\"\"\"\n",
        "new_summary = \"\"\"Symptoms improving with rest.\"\"\"\n",
        "\n",
        "cursor.execute(\"\"\"\n",
        "    UPDATE patient_summaries\n",
        "    SET full_input = ?, summary = ?\n",
        "    WHERE id = ?\n",
        "\"\"\", (new_input, new_summary))\n",
        "conn.commit()\n",
        "\n",
        "print(f\"✅ Record {record_id} updated successfully.\")\n",
        "cursor.execute(\"\"\"\n",
        "    UPDATE patient_summaries\n",
        "    SET full_input = ?, summary =?\n",
        "    WHERE id = 1\n",
        "\"\"\", (new_input, new_summary)) # Removed extra record_id from the values\n",
        "conn.commit()\n",
        "\n",
        "print(f\"✅ Record {record_id} updated successfully.\")\n",
        "\n",
        "record_id = 1\n",
        "new_input = \"\"\"The patient has been dizzy and feeling nauseous.\"\"\"\n",
        "new_summary = \"\"\"Patient was dizzy and feeling nauseous.\"\"\"\n",
        "\n",
        "cursor.execute(\"\"\"\n",
        "    UPDATE patient_summaries\n",
        "    SET full_input = ?, summary = ?\n",
        "    WHERE id = ?\n",
        "\"\"\", (new_input, new_summary, record_id))\n",
        "\n",
        "conn.commit()\n",
        "print(f\"✅ Record {record_id} updated successfully.\")\n",
        "\n",
        "new_input = \"\"\"The patient has been dizzy and feeling nauseous.\"\"\"\n",
        "new_summary = \"\"\"Patient was dizzy and feeling nauseous.\"\"\"\n",
        "\n",
        "cursor.execute(\"\"\"\n",
        "    UPDATE patient_summaries\n",
        "    SET full_input = ?, summary = ?\n",
        "    WHERE id = 1\n",
        "\"\"\", (new_input, new_summary))\n",
        "\n",
        "conn.commit()\n",
        "print(\"✅ Record 1 updated successfully.\")\n",
        "\n",
        "record_id = 1\n",
        "new_input = \"\"\"The patient has been dizzy and feeling nauseous.\"\"\"\n",
        "new_summary = \"\"\"Patient was dizzy and feeling nauseous.\"\"\"\n",
        "\n",
        "cursor.execute(\"\"\"\n",
        "    UPDATE patient_summaries\n",
        "    SET full_input = ?, summary = ?\n",
        "    WHERE id = ?\n",
        "\"\"\", (new_input, new_summary, record_id))\n",
        "\n",
        "conn.commit()\n",
        "print(f\"✅ Record {record_id} updated successfully.\")\n",
        "\n",
        "\n",
        "\n",
        "\n",
        "\n"
      ]
    },
    {
      "cell_type": "markdown",
      "source": [
        "# New Section"
      ],
      "metadata": {
        "id": "k1L28pymqDl9"
      }
    },
    {
      "cell_type": "code",
      "source": [
        "!pip install transformers\n",
        "import sqlite3\n",
        "from datetime import datetime\n",
        "from transformers import pipeline\n",
        "# Connect to DB\n",
        "conn = sqlite3.connect(\"medlock_records.db\")\n",
        "cursor = conn.cursor()\n",
        "\n",
        "# Create table\n",
        "cursor.execute(\"\"\"\n",
        "    CREATE TABLE IF NOT EXISTS patient_summaries (\n",
        "        id INTEGER PRIMARY KEY AUTOINCREMENT,\n",
        "        full_input TEXT,\n",
        "        summary TEXT,\n",
        "        timestamp TEXT\n",
        "    )\n",
        "\"\"\")\n",
        "conn.commit()\n",
        "\n",
        "# Load summarizer\n",
        "summarizer = pipeline(\"summarization\", model=\"facebook/bart-large-cnn\")\n",
        "\n",
        "print(\"✅ Database and summarizer ready.\")\n",
        "# 🔹 Summarize patient input\n",
        "patient_input = \"\"\"I've been experiencing a pain in my chest, dizziness, and fatigue for 3 days.\"\"\"\n",
        "summary = summarizer(patient_input, max_length=60, min_length=25, do_sample=False)[0]['summary_text']\n",
        "\n",
        "print(\"---- Summary ----\")\n",
        "print(summary)\n",
        "# 🔹 Save to DB\n",
        "timestamp = datetime.now().isoformat()\n",
        "\n",
        "cursor.execute(\"\"\"\n",
        "    INSERT INTO patient_summaries (full_input, summary, timestamp)\n",
        "    VALUES (?, ?, ?)\n",
        "\"\"\", (patient_input, summary, timestamp))\n",
        "conn.commit()\n",
        "\n",
        "print(\"✅ Summary saved to database.\")\n",
        "# 🔹 Search DB\n",
        "search_term = \"fatigue\"  # Change as needed\n",
        "\n",
        "cursor.execute(\"\"\"\n",
        "    SELECT * FROM patient_summaries\n",
        "    WHERE lower(full_input) LIKE ? OR lower(summary) LIKE ?\n",
        "\"\"\", (f\"%{search_term.lower()}%\", f\"%{search_term.lower()}%\"))\n",
        "\n",
        "results = cursor.fetchall()\n",
        "\n",
        "for row in results:\n",
        "    print(f\"ID: {row[0]}\\nSummary: {row[2]}\\nTime: {row[3]}\\n\")\n",
        "# 🔹 Update or Delete\n",
        "record_id = 1  # Replace with the actual ID\n",
        "\n",
        "# Example: Update\n",
        "new_summary = \"Updated summary: Patient has dizziness, breathlessness, and fatigue.\"\n",
        "cursor.execute(\"UPDATE patient_summaries SET summary = ? WHERE id = ?\", (new_summary, record_id))\n",
        "conn.commit()\n",
        "print(\"✅ Updated.\")\n",
        "\n",
        "# Example: Delete\n",
        "# cursor.execute(\"DELETE FROM patient_summaries WHERE id = ?\", (record_id,))\n",
        "# conn.commit()\n",
        "# print(\"❌ Deleted.\")\n",
        "\n",
        "\n"
      ],
      "metadata": {
        "colab": {
          "base_uri": "https://localhost:8080/"
        },
        "id": "br7WrfAbuyrm",
        "outputId": "48680179-6557-4fd0-a9d4-e114d16f4522"
      },
      "execution_count": 7,
      "outputs": [
        {
          "output_type": "stream",
          "name": "stdout",
          "text": [
            "Requirement already satisfied: transformers in /usr/local/lib/python3.11/dist-packages (4.51.3)\n",
            "Requirement already satisfied: filelock in /usr/local/lib/python3.11/dist-packages (from transformers) (3.18.0)\n",
            "Requirement already satisfied: huggingface-hub<1.0,>=0.30.0 in /usr/local/lib/python3.11/dist-packages (from transformers) (0.30.2)\n",
            "Requirement already satisfied: numpy>=1.17 in /usr/local/lib/python3.11/dist-packages (from transformers) (2.0.2)\n",
            "Requirement already satisfied: packaging>=20.0 in /usr/local/lib/python3.11/dist-packages (from transformers) (24.2)\n",
            "Requirement already satisfied: pyyaml>=5.1 in /usr/local/lib/python3.11/dist-packages (from transformers) (6.0.2)\n",
            "Requirement already satisfied: regex!=2019.12.17 in /usr/local/lib/python3.11/dist-packages (from transformers) (2024.11.6)\n",
            "Requirement already satisfied: requests in /usr/local/lib/python3.11/dist-packages (from transformers) (2.32.3)\n",
            "Requirement already satisfied: tokenizers<0.22,>=0.21 in /usr/local/lib/python3.11/dist-packages (from transformers) (0.21.1)\n",
            "Requirement already satisfied: safetensors>=0.4.3 in /usr/local/lib/python3.11/dist-packages (from transformers) (0.5.3)\n",
            "Requirement already satisfied: tqdm>=4.27 in /usr/local/lib/python3.11/dist-packages (from transformers) (4.67.1)\n",
            "Requirement already satisfied: fsspec>=2023.5.0 in /usr/local/lib/python3.11/dist-packages (from huggingface-hub<1.0,>=0.30.0->transformers) (2025.3.2)\n",
            "Requirement already satisfied: typing-extensions>=3.7.4.3 in /usr/local/lib/python3.11/dist-packages (from huggingface-hub<1.0,>=0.30.0->transformers) (4.13.2)\n",
            "Requirement already satisfied: charset-normalizer<4,>=2 in /usr/local/lib/python3.11/dist-packages (from requests->transformers) (3.4.1)\n",
            "Requirement already satisfied: idna<4,>=2.5 in /usr/local/lib/python3.11/dist-packages (from requests->transformers) (3.10)\n",
            "Requirement already satisfied: urllib3<3,>=1.21.1 in /usr/local/lib/python3.11/dist-packages (from requests->transformers) (2.3.0)\n",
            "Requirement already satisfied: certifi>=2017.4.17 in /usr/local/lib/python3.11/dist-packages (from requests->transformers) (2025.1.31)\n"
          ]
        },
        {
          "output_type": "stream",
          "name": "stderr",
          "text": [
            "Device set to use cpu\n",
            "Your max_length is set to 60, but your input_length is only 21. Since this is a summarization task, where outputs shorter than the input are typically wanted, you might consider decreasing max_length manually, e.g. summarizer('...', max_length=10)\n"
          ]
        },
        {
          "output_type": "stream",
          "name": "stdout",
          "text": [
            "✅ Database and summarizer ready.\n",
            "---- Summary ----\n",
            "\"I've been experiencing a pain in my chest, dizziness, and fatigue for 3 days. I've been unable to sleep,\" she said.\n",
            "✅ Summary saved to database.\n",
            "ID: 1\n",
            "Summary: \"I've been experiencing a pain in my chest, dizziness, and fatigue for 3 days. I've been unable to sleep,\" she said.\n",
            "Time: 2025-04-28T09:45:34.325189\n",
            "\n",
            "ID: 2\n",
            "Summary: \"I've been experiencing a pain in my chest, dizziness, and fatigue for 3 days. I've been unable to sleep,\" she said.\n",
            "Time: 2025-04-28T09:46:44.673405\n",
            "\n",
            "ID: 3\n",
            "Summary: \"I've been experiencing a pain in my chest, dizziness, and fatigue for 3 days. I've been unable to sleep,\" she said.\n",
            "Time: 2025-04-28T09:47:56.910467\n",
            "\n",
            "✅ Updated.\n"
          ]
        }
      ]
    },
    {
      "cell_type": "markdown",
      "source": [
        "# New Section"
      ],
      "metadata": {
        "id": "n5zl8oJJsrYM"
      }
    }
  ]
}